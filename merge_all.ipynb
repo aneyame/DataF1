{
 "cells": [
  {
   "cell_type": "code",
   "id": "initial_id",
   "metadata": {
    "collapsed": true,
    "ExecuteTime": {
     "end_time": "2024-09-18T11:32:34.951234Z",
     "start_time": "2024-09-18T11:32:34.896633Z"
    }
   },
   "source": [
    "import pandas as pd\n",
    "\n",
    "# Charger les fichiers CSV avec le bon séparateur\n",
    "merged = pd.read_csv('merged_drivers_standing_race.csv', delimiter=',')\n",
    "F1 = pd.read_csv('F1.csv', delimiter=';')\n",
    "\n",
    "# Fusionner les fichiers sur la colonne 'driverId'\n",
    "merged_data = pd.merge(F1, merged, on=['name','year'])\n",
    "\n",
    "# Afficher les premières lignes du fichier fusionné\n",
    "print(merged_data.head())\n",
    "\n",
    "# Enregistrer le fichier fusionné\n",
    "merged_data.to_csv('merged_all.csv', index=False)\n",
    "print('success')\n"
   ],
   "outputs": [
    {
     "name": "stdout",
     "output_type": "stream",
     "text": [
      "                          name  year    AirTemp   Humidity     Pressure  \\\n",
      "0  70th Anniversary Grand Prix  2020  25.287069  58.556034  1000.950862   \n",
      "1  70th Anniversary Grand Prix  2020  25.287069  58.556034  1000.950862   \n",
      "2  70th Anniversary Grand Prix  2020  25.287069  58.556034  1000.950862   \n",
      "3  70th Anniversary Grand Prix  2020  25.287069  58.556034  1000.950862   \n",
      "4  70th Anniversary Grand Prix  2020  25.287069  58.556034  1000.950862   \n",
      "\n",
      "   Rainfall  TrackTemp  WindDirection  WindSpeed  Round Number  driverId  \\\n",
      "0       0.0  43.227586      71.931034   2.236207           4.0         1   \n",
      "1       0.0  43.227586      71.931034   2.236207           4.0         8   \n",
      "2       0.0  43.227586      71.931034   2.236207           4.0        20   \n",
      "3       0.0  43.227586      71.931034   2.236207           4.0       154   \n",
      "4       0.0  43.227586      71.931034   2.236207           4.0       842   \n",
      "\n",
      "   driverRef  driverStandingsId  raceId  points  position  wins  circuitId  \\\n",
      "0   hamilton              69893    1035   107.0         1     3          9   \n",
      "1  raikkonen              69903    1035     0.0        18     0          9   \n",
      "2     vettel              69899    1035    10.0        13     0          9   \n",
      "3   grosjean              69905    1035     0.0        21     0          9   \n",
      "4      gasly              69896    1035    12.0        12     0          9   \n",
      "\n",
      "       time  \n",
      "0  13:10:00  \n",
      "1  13:10:00  \n",
      "2  13:10:00  \n",
      "3  13:10:00  \n",
      "4  13:10:00  \n",
      "success\n"
     ]
    }
   ],
   "execution_count": 35
  },
  {
   "metadata": {
    "ExecuteTime": {
     "end_time": "2024-09-18T09:23:43.339978Z",
     "start_time": "2024-09-18T09:23:43.333547Z"
    }
   },
   "cell_type": "code",
   "source": "merged_data.drop(columns = ['Unnamed: 9'], inplace=True)",
   "id": "215f322d69c84a08",
   "outputs": [],
   "execution_count": 26
  },
  {
   "metadata": {
    "ExecuteTime": {
     "end_time": "2024-09-18T09:25:29.133331Z",
     "start_time": "2024-09-18T09:25:29.118872Z"
    }
   },
   "cell_type": "code",
   "source": "merged_data.to_csv('test.csv', index=False)\n",
   "id": "e3873f591b720c7f",
   "outputs": [],
   "execution_count": 28
  },
  {
   "metadata": {},
   "cell_type": "code",
   "outputs": [],
   "execution_count": null,
   "source": "",
   "id": "56dc59d68030facb"
  }
 ],
 "metadata": {
  "kernelspec": {
   "display_name": "Python 3",
   "language": "python",
   "name": "python3"
  },
  "language_info": {
   "codemirror_mode": {
    "name": "ipython",
    "version": 2
   },
   "file_extension": ".py",
   "mimetype": "text/x-python",
   "name": "python",
   "nbconvert_exporter": "python",
   "pygments_lexer": "ipython2",
   "version": "2.7.6"
  }
 },
 "nbformat": 4,
 "nbformat_minor": 5
}
