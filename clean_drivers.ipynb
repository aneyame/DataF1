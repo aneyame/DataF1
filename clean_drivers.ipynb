{
 "cells": [
  {
   "cell_type": "code",
   "id": "initial_id",
   "metadata": {
    "collapsed": true,
    "ExecuteTime": {
     "end_time": "2024-09-18T11:22:48.214727Z",
     "start_time": "2024-09-18T11:22:48.204271Z"
    }
   },
   "source": [
    "import pandas as pd\n",
    "import seaborn as sns\n",
    "import matplotlib.pyplot as plt\n",
    "import ipywidgets as widgets\n",
    "\n",
    "drivers_df = pd.read_csv('drivers.csv',delimiter=';')\n",
    "\n",
    "drivers_df.drop(columns = ['number','code','forename','surname','dob','url','nationality'], inplace=True)\n",
    "\n",
    "print(drivers_df)"
   ],
   "outputs": [
    {
     "name": "stdout",
     "output_type": "stream",
     "text": [
      "     driverId   driverRef\n",
      "0           1    hamilton\n",
      "1           2    heidfeld\n",
      "2           3     rosberg\n",
      "3           4      alonso\n",
      "4           5  kovalainen\n",
      "..        ...         ...\n",
      "854       856    de_vries\n",
      "855       857     piastri\n",
      "856       858    sargeant\n",
      "857       859      lawson\n",
      "858       860     bearman\n",
      "\n",
      "[859 rows x 2 columns]\n"
     ]
    }
   ],
   "execution_count": 3
  },
  {
   "metadata": {
    "ExecuteTime": {
     "end_time": "2024-09-17T14:52:26.098257Z",
     "start_time": "2024-09-17T14:52:26.089434Z"
    }
   },
   "cell_type": "code",
   "source": "",
   "id": "9456c3b5bea323e9",
   "outputs": [
    {
     "name": "stdout",
     "output_type": "stream",
     "text": [
      "     driverId   driverRef number code  forename     surname         dob  \\\n",
      "0           1    hamilton     44  HAM     Lewis    Hamilton  1985-01-07   \n",
      "1           2    heidfeld     \\N  HEI      Nick    Heidfeld  1977-05-10   \n",
      "2           3     rosberg      6  ROS      Nico     Rosberg  1985-06-27   \n",
      "3           4      alonso     14  ALO  Fernando      Alonso  1981-07-29   \n",
      "4           5  kovalainen     \\N  KOV    Heikki  Kovalainen  1981-10-19   \n",
      "..        ...         ...    ...  ...       ...         ...         ...   \n",
      "854       856    de_vries     21  DEV      Nyck    de Vries  1995-02-06   \n",
      "855       857     piastri     81  PIA     Oscar     Piastri  2001-04-06   \n",
      "856       858    sargeant      2  SAR     Logan    Sargeant  2000-12-31   \n",
      "857       859      lawson     40  LAW      Liam      Lawson  2002-02-11   \n",
      "858       860     bearman     38  BEA    Oliver     Bearman  2005-05-08   \n",
      "\n",
      "       nationality                                             url  \n",
      "0          British     http://en.wikipedia.org/wiki/Lewis_Hamilton  \n",
      "1           German      http://en.wikipedia.org/wiki/Nick_Heidfeld  \n",
      "2           German       http://en.wikipedia.org/wiki/Nico_Rosberg  \n",
      "3          Spanish    http://en.wikipedia.org/wiki/Fernando_Alonso  \n",
      "4          Finnish  http://en.wikipedia.org/wiki/Heikki_Kovalainen  \n",
      "..             ...                                             ...  \n",
      "854          Dutch      http://en.wikipedia.org/wiki/Nyck_de_Vries  \n",
      "855     Australian      http://en.wikipedia.org/wiki/Oscar_Piastri  \n",
      "856       American     http://en.wikipedia.org/wiki/Logan_Sargeant  \n",
      "857  New Zealander        http://en.wikipedia.org/wiki/Liam_Lawson  \n",
      "858        British     http://en.wikipedia.org/wiki/Oliver_Bearman  \n",
      "\n",
      "[110 rows x 9 columns]\n"
     ]
    }
   ],
   "execution_count": 33
  },
  {
   "metadata": {
    "ExecuteTime": {
     "end_time": "2024-09-17T14:53:13.392125Z",
     "start_time": "2024-09-17T14:53:13.385248Z"
    }
   },
   "cell_type": "code",
   "source": [
    "# Supprimer la colonne 'fact_temperature'\n",
    "drivers_df.drop(columns = ['number','code','forename','surname','dob','nationality','url'], inplace=True)\n"
   ],
   "id": "78a15c3d3d57363b",
   "outputs": [],
   "execution_count": 34
  },
  {
   "metadata": {
    "ExecuteTime": {
     "end_time": "2024-09-18T11:23:41.134830Z",
     "start_time": "2024-09-18T11:23:41.129625Z"
    }
   },
   "cell_type": "code",
   "source": "drivers_df.to_csv('drivers.csv', index=False)",
   "id": "deac5f3dfba9651d",
   "outputs": [],
   "execution_count": 5
  },
  {
   "metadata": {
    "ExecuteTime": {
     "end_time": "2024-09-17T09:13:48.554431Z",
     "start_time": "2024-09-17T09:13:48.547508Z"
    }
   },
   "cell_type": "code",
   "source": "print(drivers_df)",
   "id": "6716b4302f487c5a",
   "outputs": [
    {
     "name": "stdout",
     "output_type": "stream",
     "text": [
      "     driverId   driverRef  forename         dob\n",
      "0           1    hamilton     Lewis  1985-01-07\n",
      "1           2    heidfeld      Nick  1977-05-10\n",
      "2           3     rosberg      Nico  1985-06-27\n",
      "3           4      alonso  Fernando  1981-07-29\n",
      "4           5  kovalainen    Heikki  1981-10-19\n",
      "..        ...         ...       ...         ...\n",
      "854       856    de_vries      Nyck  1995-02-06\n",
      "855       857     piastri     Oscar  2001-04-06\n",
      "856       858    sargeant     Logan  2000-12-31\n",
      "857       859      lawson      Liam  2002-02-11\n",
      "858       860     bearman    Oliver  2005-05-08\n",
      "\n",
      "[110 rows x 4 columns]\n"
     ]
    }
   ],
   "execution_count": 31
  },
  {
   "metadata": {},
   "cell_type": "code",
   "outputs": [],
   "execution_count": null,
   "source": "",
   "id": "fdc116e2a93b0720"
  }
 ],
 "metadata": {
  "kernelspec": {
   "display_name": "Python 3",
   "language": "python",
   "name": "python3"
  },
  "language_info": {
   "codemirror_mode": {
    "name": "ipython",
    "version": 2
   },
   "file_extension": ".py",
   "mimetype": "text/x-python",
   "name": "python",
   "nbconvert_exporter": "python",
   "pygments_lexer": "ipython2",
   "version": "2.7.6"
  }
 },
 "nbformat": 4,
 "nbformat_minor": 5
}
