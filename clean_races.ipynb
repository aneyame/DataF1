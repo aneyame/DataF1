{
 "cells": [
  {
   "cell_type": "code",
   "id": "initial_id",
   "metadata": {
    "collapsed": true,
    "ExecuteTime": {
     "end_time": "2024-09-18T11:10:16.028964Z",
     "start_time": "2024-09-18T11:10:16.014641Z"
    }
   },
   "source": [
    "import pandas as pd\n",
    "import seaborn as sns\n",
    "import matplotlib.pyplot as plt\n",
    "import ipywidgets as widgets\n",
    "\n",
    "races_df = pd.read_csv('races.csv',delimiter=';')\n",
    "races_df = races_df[races_df['year'] >= 2018]\n",
    "\n",
    "races_df.drop(columns = ['url', 'fp1_date','fp1_time','fp2_date','fp2_time','fp3_date','fp3_time','quali_date','quali_time','sprint_date','sprint_time','round','date'], inplace=True)\n",
    "\n",
    "print(races_df)"
   ],
   "outputs": [
    {
     "name": "stdout",
     "output_type": "stream",
     "text": [
      "      raceId  year  circuitId                    name      time\n",
      "976      989  2018          1   Australian Grand Prix  05:10:00\n",
      "977      990  2018          3      Bahrain Grand Prix  15:10:00\n",
      "978      991  2018         17      Chinese Grand Prix  06:10:00\n",
      "979      992  2018         73   Azerbaijan Grand Prix  12:10:00\n",
      "980      993  2018          4      Spanish Grand Prix  13:10:00\n",
      "...      ...   ...        ...                     ...       ...\n",
      "1120    1140  2024         32  Mexico City Grand Prix  20:00:00\n",
      "1121    1141  2024         18    São Paulo Grand Prix  17:00:00\n",
      "1122    1142  2024         80    Las Vegas Grand Prix  06:00:00\n",
      "1123    1143  2024         78        Qatar Grand Prix  17:00:00\n",
      "1124    1144  2024         24    Abu Dhabi Grand Prix  13:00:00\n",
      "\n",
      "[149 rows x 5 columns]\n"
     ]
    }
   ],
   "execution_count": 6
  },
  {
   "metadata": {
    "ExecuteTime": {
     "end_time": "2024-09-18T11:10:24.281843Z",
     "start_time": "2024-09-18T11:10:24.267212Z"
    }
   },
   "cell_type": "code",
   "source": "races_df.to_csv('races.csv', index=False)",
   "id": "36d16d4423a8b5fe",
   "outputs": [],
   "execution_count": 7
  },
  {
   "metadata": {},
   "cell_type": "code",
   "outputs": [],
   "execution_count": null,
   "source": "",
   "id": "afa7eeeda115e440"
  }
 ],
 "metadata": {
  "kernelspec": {
   "display_name": "Python 3",
   "language": "python",
   "name": "python3"
  },
  "language_info": {
   "codemirror_mode": {
    "name": "ipython",
    "version": 2
   },
   "file_extension": ".py",
   "mimetype": "text/x-python",
   "name": "python",
   "nbconvert_exporter": "python",
   "pygments_lexer": "ipython2",
   "version": "2.7.6"
  }
 },
 "nbformat": 4,
 "nbformat_minor": 5
}
